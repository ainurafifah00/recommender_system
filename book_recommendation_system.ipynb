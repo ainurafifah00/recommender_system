{
  "nbformat": 4,
  "nbformat_minor": 0,
  "metadata": {
    "kernelspec": {
      "name": "python3",
      "display_name": "Python 3"
    },
    "language_info": {
      "codemirror_mode": {
        "name": "ipython",
        "version": 3
      },
      "file_extension": ".py",
      "mimetype": "text/x-python",
      "name": "python",
      "nbconvert_exporter": "python",
      "pygments_lexer": "ipython3",
      "version": "3.6.6"
    },
    "colab": {
      "name": "book-recommendation-system.ipynb",
      "provenance": [],
      "collapsed_sections": [],
      "include_colab_link": true
    },
    "accelerator": "GPU"
  },
  "cells": [
    {
      "cell_type": "markdown",
      "metadata": {
        "id": "view-in-github",
        "colab_type": "text"
      },
      "source": [
        "<a href=\"https://colab.research.google.com/github/ainurafifah00/recommender_system/blob/master/book_recommendation_system.ipynb\" target=\"_parent\"><img src=\"https://colab.research.google.com/assets/colab-badge.svg\" alt=\"Open In Colab\"/></a>"
      ]
    },
    {
      "cell_type": "markdown",
      "metadata": {
        "_uuid": "435ee5c8009f5a5c3584b752d3e3eecbfd648c84",
        "id": "8ociyoow6tfa",
        "colab_type": "text"
      },
      "source": [
        "# Book Recommendation System using Keras\n",
        "A recommendation system seeks to predict the rating or preference a user would give to an item given his old item ratings or preferences. Recommendation systems are used by pretty much every major company in order to enhance the quality of their services.  \n",
        "Content:  \n",
        "1. [Loading in data](#1)  \n",
        "2. [Creating dot product model](#2)\n",
        "3. [Creating Neural Network](#3)\n",
        "4. [Visualizing Embeddings](#4)\n",
        "5. [Making Recommendations](#5)"
      ]
    },
    {
      "cell_type": "code",
      "metadata": {
        "_uuid": "ce056ed9e92456b3b048e42fde7ae6166a6761ef",
        "id": "0WY5T5ge6tfh",
        "colab_type": "code",
        "colab": {
          "base_uri": "https://localhost:8080/",
          "height": 34
        },
        "outputId": "085ccb2f-852e-4ab6-925b-9a06ee9be8dc"
      },
      "source": [
        "import numpy as np\n",
        "import pandas as pd\n",
        "import matplotlib.pyplot as plt\n",
        "import os\n",
        "import warnings\n",
        "\n",
        "from keras.layers import Input, Embedding, Flatten, Dot, Dense\n",
        "from keras.models import Model\n",
        "\n",
        "warnings.filterwarnings('ignore')\n",
        "%matplotlib inline"
      ],
      "execution_count": 1,
      "outputs": [
        {
          "output_type": "stream",
          "text": [
            "Using TensorFlow backend.\n"
          ],
          "name": "stderr"
        }
      ]
    },
    {
      "cell_type": "markdown",
      "metadata": {
        "_uuid": "62c1974a66aa6a0704ee5f54e6930231e77b5e04",
        "id": "mw_0zOQz6tfv",
        "colab_type": "text"
      },
      "source": [
        "<a id=\"1\"></a> \n",
        "## Loading in data"
      ]
    },
    {
      "cell_type": "code",
      "metadata": {
        "_uuid": "0a21061e30926621f214cdcfe5a3ec25d24d4014",
        "id": "qlmoHtBR6tfx",
        "colab_type": "code",
        "colab": {}
      },
      "source": [
        "#dataset = pd.read_csv('../input/ratings.csv')\n",
        "url = \"https://raw.githubusercontent.com/zygmuntz/goodbooks-10k/master/ratings.csv\"\n",
        "\n",
        "dataset = pd.read_csv(url)"
      ],
      "execution_count": 2,
      "outputs": []
    },
    {
      "cell_type": "code",
      "metadata": {
        "_uuid": "6f78b0074d669625bac9de84cbf9a294c3cdbee6",
        "id": "2D_j16gv6tf6",
        "colab_type": "code",
        "colab": {
          "base_uri": "https://localhost:8080/",
          "height": 204
        },
        "outputId": "cb1501e4-a0db-496b-f230-4983ef14fb88"
      },
      "source": [
        "dataset.head()"
      ],
      "execution_count": 3,
      "outputs": [
        {
          "output_type": "execute_result",
          "data": {
            "text/html": [
              "<div>\n",
              "<style scoped>\n",
              "    .dataframe tbody tr th:only-of-type {\n",
              "        vertical-align: middle;\n",
              "    }\n",
              "\n",
              "    .dataframe tbody tr th {\n",
              "        vertical-align: top;\n",
              "    }\n",
              "\n",
              "    .dataframe thead th {\n",
              "        text-align: right;\n",
              "    }\n",
              "</style>\n",
              "<table border=\"1\" class=\"dataframe\">\n",
              "  <thead>\n",
              "    <tr style=\"text-align: right;\">\n",
              "      <th></th>\n",
              "      <th>user_id</th>\n",
              "      <th>book_id</th>\n",
              "      <th>rating</th>\n",
              "    </tr>\n",
              "  </thead>\n",
              "  <tbody>\n",
              "    <tr>\n",
              "      <th>0</th>\n",
              "      <td>1</td>\n",
              "      <td>258</td>\n",
              "      <td>5</td>\n",
              "    </tr>\n",
              "    <tr>\n",
              "      <th>1</th>\n",
              "      <td>2</td>\n",
              "      <td>4081</td>\n",
              "      <td>4</td>\n",
              "    </tr>\n",
              "    <tr>\n",
              "      <th>2</th>\n",
              "      <td>2</td>\n",
              "      <td>260</td>\n",
              "      <td>5</td>\n",
              "    </tr>\n",
              "    <tr>\n",
              "      <th>3</th>\n",
              "      <td>2</td>\n",
              "      <td>9296</td>\n",
              "      <td>5</td>\n",
              "    </tr>\n",
              "    <tr>\n",
              "      <th>4</th>\n",
              "      <td>2</td>\n",
              "      <td>2318</td>\n",
              "      <td>3</td>\n",
              "    </tr>\n",
              "  </tbody>\n",
              "</table>\n",
              "</div>"
            ],
            "text/plain": [
              "   user_id  book_id  rating\n",
              "0        1      258       5\n",
              "1        2     4081       4\n",
              "2        2      260       5\n",
              "3        2     9296       5\n",
              "4        2     2318       3"
            ]
          },
          "metadata": {
            "tags": []
          },
          "execution_count": 3
        }
      ]
    },
    {
      "cell_type": "code",
      "metadata": {
        "_uuid": "97b38898f1a9b2bcde3846273772d720a45600f9",
        "id": "b20HnLdD6tgD",
        "colab_type": "code",
        "colab": {
          "base_uri": "https://localhost:8080/",
          "height": 34
        },
        "outputId": "7afbb86b-b957-4c02-a554-65e80f99ce43"
      },
      "source": [
        "dataset.shape"
      ],
      "execution_count": 4,
      "outputs": [
        {
          "output_type": "execute_result",
          "data": {
            "text/plain": [
              "(5976479, 3)"
            ]
          },
          "metadata": {
            "tags": []
          },
          "execution_count": 4
        }
      ]
    },
    {
      "cell_type": "code",
      "metadata": {
        "_uuid": "48a5d449987d8e4b5f7a02d42969c270204d6852",
        "id": "QE6pMAzs6tgH",
        "colab_type": "code",
        "colab": {}
      },
      "source": [
        "from sklearn.model_selection import train_test_split\n",
        "train, test = train_test_split(dataset, test_size=0.2, random_state=42)"
      ],
      "execution_count": 5,
      "outputs": []
    },
    {
      "cell_type": "code",
      "metadata": {
        "_uuid": "ef8d409cf636b9efdc758e60c9cdc4b16b6d7b5f",
        "id": "wYKQJlor6tgM",
        "colab_type": "code",
        "colab": {
          "base_uri": "https://localhost:8080/",
          "height": 204
        },
        "outputId": "e9cff062-0faa-45ab-b829-49a10a24358a"
      },
      "source": [
        "train.head()"
      ],
      "execution_count": 6,
      "outputs": [
        {
          "output_type": "execute_result",
          "data": {
            "text/html": [
              "<div>\n",
              "<style scoped>\n",
              "    .dataframe tbody tr th:only-of-type {\n",
              "        vertical-align: middle;\n",
              "    }\n",
              "\n",
              "    .dataframe tbody tr th {\n",
              "        vertical-align: top;\n",
              "    }\n",
              "\n",
              "    .dataframe thead th {\n",
              "        text-align: right;\n",
              "    }\n",
              "</style>\n",
              "<table border=\"1\" class=\"dataframe\">\n",
              "  <thead>\n",
              "    <tr style=\"text-align: right;\">\n",
              "      <th></th>\n",
              "      <th>user_id</th>\n",
              "      <th>book_id</th>\n",
              "      <th>rating</th>\n",
              "    </tr>\n",
              "  </thead>\n",
              "  <tbody>\n",
              "    <tr>\n",
              "      <th>1701724</th>\n",
              "      <td>10714</td>\n",
              "      <td>7164</td>\n",
              "      <td>3</td>\n",
              "    </tr>\n",
              "    <tr>\n",
              "      <th>5361971</th>\n",
              "      <td>48091</td>\n",
              "      <td>2213</td>\n",
              "      <td>3</td>\n",
              "    </tr>\n",
              "    <tr>\n",
              "      <th>3243372</th>\n",
              "      <td>9809</td>\n",
              "      <td>5769</td>\n",
              "      <td>4</td>\n",
              "    </tr>\n",
              "    <tr>\n",
              "      <th>1808828</th>\n",
              "      <td>25191</td>\n",
              "      <td>86</td>\n",
              "      <td>5</td>\n",
              "    </tr>\n",
              "    <tr>\n",
              "      <th>5142988</th>\n",
              "      <td>25441</td>\n",
              "      <td>4884</td>\n",
              "      <td>3</td>\n",
              "    </tr>\n",
              "  </tbody>\n",
              "</table>\n",
              "</div>"
            ],
            "text/plain": [
              "         user_id  book_id  rating\n",
              "1701724    10714     7164       3\n",
              "5361971    48091     2213       3\n",
              "3243372     9809     5769       4\n",
              "1808828    25191       86       5\n",
              "5142988    25441     4884       3"
            ]
          },
          "metadata": {
            "tags": []
          },
          "execution_count": 6
        }
      ]
    },
    {
      "cell_type": "code",
      "metadata": {
        "_uuid": "f0ae2e1b14e908a90b4a5d2d87bfb7a880f40206",
        "id": "doTFuuVu6tgR",
        "colab_type": "code",
        "colab": {
          "base_uri": "https://localhost:8080/",
          "height": 204
        },
        "outputId": "727d7191-724f-4217-b4ee-01cd35bfca81"
      },
      "source": [
        "test.head()"
      ],
      "execution_count": 7,
      "outputs": [
        {
          "output_type": "execute_result",
          "data": {
            "text/html": [
              "<div>\n",
              "<style scoped>\n",
              "    .dataframe tbody tr th:only-of-type {\n",
              "        vertical-align: middle;\n",
              "    }\n",
              "\n",
              "    .dataframe tbody tr th {\n",
              "        vertical-align: top;\n",
              "    }\n",
              "\n",
              "    .dataframe thead th {\n",
              "        text-align: right;\n",
              "    }\n",
              "</style>\n",
              "<table border=\"1\" class=\"dataframe\">\n",
              "  <thead>\n",
              "    <tr style=\"text-align: right;\">\n",
              "      <th></th>\n",
              "      <th>user_id</th>\n",
              "      <th>book_id</th>\n",
              "      <th>rating</th>\n",
              "    </tr>\n",
              "  </thead>\n",
              "  <tbody>\n",
              "    <tr>\n",
              "      <th>3623535</th>\n",
              "      <td>42562</td>\n",
              "      <td>2757</td>\n",
              "      <td>3</td>\n",
              "    </tr>\n",
              "    <tr>\n",
              "      <th>3985638</th>\n",
              "      <td>43232</td>\n",
              "      <td>134</td>\n",
              "      <td>4</td>\n",
              "    </tr>\n",
              "    <tr>\n",
              "      <th>2983642</th>\n",
              "      <td>37244</td>\n",
              "      <td>1463</td>\n",
              "      <td>5</td>\n",
              "    </tr>\n",
              "    <tr>\n",
              "      <th>5812251</th>\n",
              "      <td>53366</td>\n",
              "      <td>71</td>\n",
              "      <td>2</td>\n",
              "    </tr>\n",
              "    <tr>\n",
              "      <th>2208852</th>\n",
              "      <td>29634</td>\n",
              "      <td>3339</td>\n",
              "      <td>4</td>\n",
              "    </tr>\n",
              "  </tbody>\n",
              "</table>\n",
              "</div>"
            ],
            "text/plain": [
              "         user_id  book_id  rating\n",
              "3623535    42562     2757       3\n",
              "3985638    43232      134       4\n",
              "2983642    37244     1463       5\n",
              "5812251    53366       71       2\n",
              "2208852    29634     3339       4"
            ]
          },
          "metadata": {
            "tags": []
          },
          "execution_count": 7
        }
      ]
    },
    {
      "cell_type": "code",
      "metadata": {
        "_uuid": "b444a690fa741d0ac70fdeab6a4de6a934da69f6",
        "id": "3Lg73HWE6tgU",
        "colab_type": "code",
        "colab": {
          "base_uri": "https://localhost:8080/",
          "height": 34
        },
        "outputId": "58203848-c160-44b5-8124-c09a78a953cf"
      },
      "source": [
        "n_users = len(dataset.user_id.unique())\n",
        "n_users"
      ],
      "execution_count": 8,
      "outputs": [
        {
          "output_type": "execute_result",
          "data": {
            "text/plain": [
              "53424"
            ]
          },
          "metadata": {
            "tags": []
          },
          "execution_count": 8
        }
      ]
    },
    {
      "cell_type": "code",
      "metadata": {
        "_uuid": "08e80181f65bbf76624eff230195c1fd33b0deef",
        "id": "lOAc1F436tgX",
        "colab_type": "code",
        "colab": {
          "base_uri": "https://localhost:8080/",
          "height": 34
        },
        "outputId": "f1c22a57-ed47-4de9-84a3-4532a93fcc3d"
      },
      "source": [
        "n_books = len(dataset.book_id.unique())\n",
        "n_books"
      ],
      "execution_count": 9,
      "outputs": [
        {
          "output_type": "execute_result",
          "data": {
            "text/plain": [
              "10000"
            ]
          },
          "metadata": {
            "tags": []
          },
          "execution_count": 9
        }
      ]
    },
    {
      "cell_type": "markdown",
      "metadata": {
        "_uuid": "ed729423d30ca35c47df3f724b67748a44d9c461",
        "id": "ZyRJ9TT_6tgb",
        "colab_type": "text"
      },
      "source": [
        "<a id=\"2\"></a> \n",
        "## Creating dot product model\n",
        "Most recommendation systems are build using a simple dot product as shown below but newer ones are now implementing a neural network instead of the simple dot product."
      ]
    },
    {
      "cell_type": "code",
      "metadata": {
        "_uuid": "b750e2a4b34f171220332e8b5fb183116aefd939",
        "id": "ZrZ8DxMC6tgc",
        "colab_type": "code",
        "colab": {}
      },
      "source": [
        "# creating book embedding path\n",
        "book_input = Input(shape=[1], name=\"Book-Input\")\n",
        "book_embedding = Embedding(n_books+1, 5, name=\"Book-Embedding\")(book_input)\n",
        "book_vec = Flatten(name=\"Flatten-Books\")(book_embedding)\n",
        "\n",
        "# creating user embedding path\n",
        "user_input = Input(shape=[1], name=\"User-Input\")\n",
        "user_embedding = Embedding(n_users+1, 5, name=\"User-Embedding\")(user_input)\n",
        "user_vec = Flatten(name=\"Flatten-Users\")(user_embedding)\n",
        "\n",
        "# performing dot product and creating model\n",
        "prod = Dot(name=\"Dot-Product\", axes=1)([book_vec, user_vec])\n",
        "model = Model([user_input, book_input], prod)\n",
        "model.compile('adam', 'mean_squared_error')"
      ],
      "execution_count": 10,
      "outputs": []
    },
    {
      "cell_type": "code",
      "metadata": {
        "_uuid": "fcaf5014dd777569353cd2ea335c358d374663e0",
        "scrolled": true,
        "id": "COSMu3rV6tge",
        "colab_type": "code",
        "colab": {
          "base_uri": "https://localhost:8080/",
          "height": 449
        },
        "outputId": "48028e61-9915-4052-fe3d-580159ff3960"
      },
      "source": [
        "from keras.models import load_model\n",
        "\n",
        "if os.path.exists('regression_model.h5'):\n",
        "    model = load_model('regression_model.h5')\n",
        "else:\n",
        "    history = model.fit([train.user_id, train.book_id], train.rating, epochs=5, verbose=1)\n",
        "    model.save('regression_model.h5')\n",
        "    plt.plot(history.history['loss'])\n",
        "    plt.xlabel(\"Epochs\")\n",
        "    plt.ylabel(\"Training Error\")"
      ],
      "execution_count": 11,
      "outputs": [
        {
          "output_type": "stream",
          "text": [
            "Epoch 1/5\n",
            "4781183/4781183 [==============================] - 346s 72us/step - loss: 3.5582\n",
            "Epoch 2/5\n",
            "4781183/4781183 [==============================] - 342s 72us/step - loss: 0.8226\n",
            "Epoch 3/5\n",
            "4781183/4781183 [==============================] - 338s 71us/step - loss: 0.8035\n",
            "Epoch 4/5\n",
            "4781183/4781183 [==============================] - 338s 71us/step - loss: 0.7796\n",
            "Epoch 5/5\n",
            "4781183/4781183 [==============================] - 338s 71us/step - loss: 0.7603\n"
          ],
          "name": "stdout"
        },
        {
          "output_type": "display_data",
          "data": {
            "image/png": "[encoded data removed]",
            "text/plain": [
              "<Figure size 432x288 with 1 Axes>"
            ]
          },
          "metadata": {
            "tags": [],
            "needs_background": "light"
          }
        }
      ]
    },
    {
      "cell_type": "code",
      "metadata": {
        "_uuid": "dfc1a1d16e3bf10eda4caeaf9f14d0a7a63df847",
        "id": "1HN8WAhL6tgh",
        "colab_type": "code",
        "colab": {
          "base_uri": "https://localhost:8080/",
          "height": 51
        },
        "outputId": "f351c9e4-2434-4999-f9ea-aa6a5928ad73"
      },
      "source": [
        "model.evaluate([test.user_id, test.book_id], test.rating)"
      ],
      "execution_count": 12,
      "outputs": [
        {
          "output_type": "stream",
          "text": [
            "1195296/1195296 [==============================] - 42s 35us/step\n"
          ],
          "name": "stdout"
        },
        {
          "output_type": "execute_result",
          "data": {
            "text/plain": [
              "0.7681112481137597"
            ]
          },
          "metadata": {
            "tags": []
          },
          "execution_count": 12
        }
      ]
    },
    {
      "cell_type": "code",
      "metadata": {
        "_uuid": "af858eae15d9b72f7181cd15563e0ea860596206",
        "id": "AKMj7_Zm6tgj",
        "colab_type": "code",
        "colab": {
          "base_uri": "https://localhost:8080/",
          "height": 204
        },
        "outputId": "d09148bd-d786-4380-b456-285685cefb3e"
      },
      "source": [
        "predictions = model.predict([test.user_id.head(10), test.book_id.head(10)])\n",
        "\n",
        "[print(predictions[i], test.rating.iloc[i]) for i in range(0,10)]"
      ],
      "execution_count": 13,
      "outputs": [
        {
          "output_type": "stream",
          "text": [
            "[3.7596426] 3\n",
            "[3.3382032] 4\n",
            "[5.1408625] 5\n",
            "[2.3848028] 2\n",
            "[3.7688231] 4\n",
            "[3.936163] 4\n",
            "[4.7321115] 4\n",
            "[3.629539] 4\n",
            "[4.287485] 5\n",
            "[2.8535717] 4\n"
          ],
          "name": "stdout"
        },
        {
          "output_type": "execute_result",
          "data": {
            "text/plain": [
              "[None, None, None, None, None, None, None, None, None, None]"
            ]
          },
          "metadata": {
            "tags": []
          },
          "execution_count": 13
        }
      ]
    },
    {
      "cell_type": "markdown",
      "metadata": {
        "_uuid": "0ef0ee39621a1ae659307865f9b34d52b8706a71",
        "id": "KDB-xJPS6tgl",
        "colab_type": "text"
      },
      "source": [
        "<a id=\"3\"></a> \n",
        "## Creating Neural Network\n",
        "Neural Networks proved there effectivness for almost every machine learning problem as of now and they also perform exceptionally well for recommendation systems."
      ]
    },
    {
      "cell_type": "code",
      "metadata": {
        "_uuid": "d8ecc4f30097e87f19c1f30de680acb5c93de055",
        "id": "YE1A-gi16tgm",
        "colab_type": "code",
        "colab": {}
      },
      "source": [
        "from keras.layers import Concatenate\n",
        "\n",
        "# creating book embedding path\n",
        "book_input = Input(shape=[1], name=\"Book-Input\")\n",
        "book_embedding = Embedding(n_books+1, 5, name=\"Book-Embedding\")(book_input)\n",
        "book_vec = Flatten(name=\"Flatten-Books\")(book_embedding)\n",
        "\n",
        "# creating user embedding path\n",
        "user_input = Input(shape=[1], name=\"User-Input\")\n",
        "user_embedding = Embedding(n_users+1, 5, name=\"User-Embedding\")(user_input)\n",
        "user_vec = Flatten(name=\"Flatten-Users\")(user_embedding)\n",
        "\n",
        "# concatenate features\n",
        "conc = Concatenate()([book_vec, user_vec])\n",
        "\n",
        "# add fully-connected-layers\n",
        "fc1 = Dense(128, activation='relu')(conc)\n",
        "fc2 = Dense(32, activation='relu')(fc1)\n",
        "out = Dense(1)(fc2)\n",
        "\n",
        "# Create model and compile it\n",
        "model2 = Model([user_input, book_input], out)\n",
        "model2.compile('adam', 'mean_squared_error')"
      ],
      "execution_count": 14,
      "outputs": []
    },
    {
      "cell_type": "code",
      "metadata": {
        "_uuid": "37660cd66bff9dfdd190d4b1f4db9b24d62ae119",
        "id": "uRiEliR46tgn",
        "colab_type": "code",
        "colab": {
          "base_uri": "https://localhost:8080/",
          "height": 449
        },
        "outputId": "79c1f746-33c0-45ba-c8a2-ab36c241e1c2"
      },
      "source": [
        "from keras.models import load_model\n",
        "\n",
        "if os.path.exists('regression_model2.h5'):\n",
        "    model2 = load_model('regression_model2.h5')\n",
        "else:\n",
        "    history = model2.fit([train.user_id, train.book_id], train.rating, epochs=5, verbose=1)\n",
        "    model2.save('regression_model2.h5')\n",
        "    plt.plot(history.history['loss'])\n",
        "    plt.xlabel(\"Epochs\")\n",
        "    plt.ylabel(\"Training Error\")"
      ],
      "execution_count": 15,
      "outputs": [
        {
          "output_type": "stream",
          "text": [
            "Epoch 1/5\n",
            "4781183/4781183 [==============================] - 467s 98us/step - loss: 0.7743\n",
            "Epoch 2/5\n",
            "4781183/4781183 [==============================] - 474s 99us/step - loss: 0.7237\n",
            "Epoch 3/5\n",
            "4781183/4781183 [==============================] - 469s 98us/step - loss: 0.7021\n",
            "Epoch 4/5\n",
            "4781183/4781183 [==============================] - 468s 98us/step - loss: 0.6819\n",
            "Epoch 5/5\n",
            "4781183/4781183 [==============================] - 468s 98us/step - loss: 0.6691\n"
          ],
          "name": "stdout"
        },
        {
          "output_type": "display_data",
          "data": {
            "image/png": "[encoded data removed]",
            "text/plain": [
              "<Figure size 432x288 with 1 Axes>"
            ]
          },
          "metadata": {
            "tags": [],
            "needs_background": "light"
          }
        }
      ]
    },
    {
      "cell_type": "code",
      "metadata": {
        "_uuid": "17e872c66ac70fdac84d6f072a4f11c1183ed1ac",
        "id": "p8BMDm-s6tgq",
        "colab_type": "code",
        "colab": {
          "base_uri": "https://localhost:8080/",
          "height": 51
        },
        "outputId": "702af678-c372-4643-92ce-12e0c4459616"
      },
      "source": [
        "model2.evaluate([test.user_id, test.book_id], test.rating)"
      ],
      "execution_count": 16,
      "outputs": [
        {
          "output_type": "stream",
          "text": [
            "1195296/1195296 [==============================] - 44s 37us/step\n"
          ],
          "name": "stdout"
        },
        {
          "output_type": "execute_result",
          "data": {
            "text/plain": [
              "0.6955929932238647"
            ]
          },
          "metadata": {
            "tags": []
          },
          "execution_count": 16
        }
      ]
    },
    {
      "cell_type": "code",
      "metadata": {
        "_uuid": "980f6dc0e760665ad60128bfe09cf024877ff7d4",
        "id": "tRfjtmJz6tgt",
        "colab_type": "code",
        "colab": {
          "base_uri": "https://localhost:8080/",
          "height": 204
        },
        "outputId": "16165bd8-1dc4-43d8-8805-be14e71c19af"
      },
      "source": [
        "predictions = model2.predict([test.user_id.head(10), test.book_id.head(10)])\n",
        "\n",
        "[print(predictions[i], test.rating.iloc[i]) for i in range(0,10)]"
      ],
      "execution_count": 17,
      "outputs": [
        {
          "output_type": "stream",
          "text": [
            "[3.1913834] 3\n",
            "[3.270221] 4\n",
            "[4.3148365] 5\n",
            "[2.577224] 2\n",
            "[3.4198654] 4\n",
            "[3.6769416] 4\n",
            "[4.1560373] 4\n",
            "[4.1473894] 4\n",
            "[4.281001] 5\n",
            "[3.6870344] 4\n"
          ],
          "name": "stdout"
        },
        {
          "output_type": "execute_result",
          "data": {
            "text/plain": [
              "[None, None, None, None, None, None, None, None, None, None]"
            ]
          },
          "metadata": {
            "tags": []
          },
          "execution_count": 17
        }
      ]
    },
    {
      "cell_type": "markdown",
      "metadata": {
        "_uuid": "0ea24e7e37c33a30f60a14c2a239968dbdbedaea",
        "id": "fp0fh5c46tgw",
        "colab_type": "text"
      },
      "source": [
        "<a id=\"4\"></a> \n",
        "## Visualizing Embeddings\n",
        "Embeddings are weights that are learned to represent some specific variable like books and user in our case and therefore we can not only use them to get good results on our problem but also to extract inside about our data."
      ]
    },
    {
      "cell_type": "code",
      "metadata": {
        "_uuid": "9d6538b4aafe150a0384ae123d6b1c7e350480e5",
        "id": "BLxbN4HH6tgx",
        "colab_type": "code",
        "colab": {}
      },
      "source": [
        "# Extract embeddings\n",
        "book_em = model.get_layer('Book-Embedding')\n",
        "book_em_weights = book_em.get_weights()[0]"
      ],
      "execution_count": 18,
      "outputs": []
    },
    {
      "cell_type": "code",
      "metadata": {
        "_uuid": "dacfad39fd8ff618febf61be494c1c62a0698134",
        "id": "4tokNs6k6tgy",
        "colab_type": "code",
        "colab": {
          "base_uri": "https://localhost:8080/",
          "height": 119
        },
        "outputId": "fade5124-d7db-4a05-f5a3-0e14bef1a25e"
      },
      "source": [
        "book_em_weights[:5]"
      ],
      "execution_count": 19,
      "outputs": [
        {
          "output_type": "execute_result",
          "data": {
            "text/plain": [
              "array([[ 0.02134928, -0.02706414, -0.00956858,  0.01662779, -0.02893038],\n",
              "       [ 0.8709158 ,  0.6274885 ,  2.052807  , -1.9850048 ,  0.67375255],\n",
              "       [-0.30213183,  0.80680275,  2.478465  , -2.1889868 ,  0.2155234 ],\n",
              "       [ 1.5721536 ,  0.9239824 ,  1.743887  , -1.7339752 ,  2.6162782 ],\n",
              "       [-0.81021595, -0.00673714,  2.7591686 , -1.8932228 , -0.9690773 ]],\n",
              "      dtype=float32)"
            ]
          },
          "metadata": {
            "tags": []
          },
          "execution_count": 19
        }
      ]
    },
    {
      "cell_type": "code",
      "metadata": {
        "_uuid": "24836560bf1894a888c4fe14a289918fcb660604",
        "id": "ZC6L_sHz6tg1",
        "colab_type": "code",
        "colab": {
          "base_uri": "https://localhost:8080/",
          "height": 282
        },
        "outputId": "9daf43dc-4505-4f9e-f338-a97c4ed3359f"
      },
      "source": [
        "from sklearn.decomposition import PCA\n",
        "import seaborn as sns\n",
        "\n",
        "pca = PCA(n_components=2)\n",
        "pca_result = pca.fit_transform(book_em_weights)\n",
        "sns.scatterplot(x=pca_result[:,0], y=pca_result[:,1])"
      ],
      "execution_count": 20,
      "outputs": [
        {
          "output_type": "execute_result",
          "data": {
            "text/plain": [
              "<matplotlib.axes._subplots.AxesSubplot at 0x7f29cc9f7b70>"
            ]
          },
          "metadata": {
            "tags": []
          },
          "execution_count": 20
        },
        {
          "output_type": "display_data",
          "data": {
            "image/png": "[encoded data removed]",
            "text/plain": [
              "<Figure size 432x288 with 1 Axes>"
            ]
          },
          "metadata": {
            "tags": [],
            "needs_background": "light"
          }
        }
      ]
    },
    {
      "cell_type": "code",
      "metadata": {
        "_uuid": "46fca5cf0c61838f4a19e0e1c13960e94c0b9f53",
        "id": "wBMojiE36tg3",
        "colab_type": "code",
        "colab": {
          "base_uri": "https://localhost:8080/",
          "height": 34
        },
        "outputId": "20df6811-ed3e-470a-ff5e-0701c03ce347"
      },
      "source": [
        "book_em_weights = book_em_weights / np.linalg.norm(book_em_weights, axis = 1).reshape((-1, 1))\n",
        "book_em_weights[0][:10]\n",
        "np.sum(np.square(book_em_weights[0]))"
      ],
      "execution_count": 21,
      "outputs": [
        {
          "output_type": "execute_result",
          "data": {
            "text/plain": [
              "1.0"
            ]
          },
          "metadata": {
            "tags": []
          },
          "execution_count": 21
        }
      ]
    },
    {
      "cell_type": "code",
      "metadata": {
        "_uuid": "21ef4e78593cffc9799f0f0aa8d7f458d7689f93",
        "id": "qfemlLVW6tg5",
        "colab_type": "code",
        "colab": {
          "base_uri": "https://localhost:8080/",
          "height": 283
        },
        "outputId": "0e639f47-ea42-4bbc-efa1-54729a74e94a"
      },
      "source": [
        "pca = PCA(n_components=2)\n",
        "pca_result = pca.fit_transform(book_em_weights)\n",
        "sns.scatterplot(x=pca_result[:,0], y=pca_result[:,1])"
      ],
      "execution_count": 22,
      "outputs": [
        {
          "output_type": "execute_result",
          "data": {
            "text/plain": [
              "<matplotlib.axes._subplots.AxesSubplot at 0x7f29cc971a20>"
            ]
          },
          "metadata": {
            "tags": []
          },
          "execution_count": 22
        },
        {
          "output_type": "display_data",
          "data": {
            "image/png": "[encoded data removed]",
            "text/plain": [
              "<Figure size 432x288 with 1 Axes>"
            ]
          },
          "metadata": {
            "tags": [],
            "needs_background": "light"
          }
        }
      ]
    },
    {
      "cell_type": "code",
      "metadata": {
        "_uuid": "e17988b4b85c0ee5edccf9c94bb16209126d1e74",
        "id": "TnR4CPcF6tg7",
        "colab_type": "code",
        "colab": {
          "base_uri": "https://localhost:8080/",
          "height": 306
        },
        "outputId": "cc3c2078-2223-49ca-9d6f-66e2c8eabda8"
      },
      "source": [
        "from sklearn.manifold import TSNE\n",
        "\n",
        "tsne = TSNE(n_components=2, verbose=1, perplexity=40, n_iter=300)\n",
        "tnse_results = tsne.fit_transform(book_em_weights)"
      ],
      "execution_count": 23,
      "outputs": [
        {
          "output_type": "stream",
          "text": [
            "[t-SNE] Computing 121 nearest neighbors...\n",
            "[t-SNE] Indexed 10001 samples in 0.007s...\n",
            "[t-SNE] Computed neighbors for 10001 samples in 0.504s...\n",
            "[t-SNE] Computed conditional probabilities for sample 1000 / 10001\n",
            "[t-SNE] Computed conditional probabilities for sample 2000 / 10001\n",
            "[t-SNE] Computed conditional probabilities for sample 3000 / 10001\n",
            "[t-SNE] Computed conditional probabilities for sample 4000 / 10001\n",
            "[t-SNE] Computed conditional probabilities for sample 5000 / 10001\n",
            "[t-SNE] Computed conditional probabilities for sample 6000 / 10001\n",
            "[t-SNE] Computed conditional probabilities for sample 7000 / 10001\n",
            "[t-SNE] Computed conditional probabilities for sample 8000 / 10001\n",
            "[t-SNE] Computed conditional probabilities for sample 9000 / 10001\n",
            "[t-SNE] Computed conditional probabilities for sample 10000 / 10001\n",
            "[t-SNE] Computed conditional probabilities for sample 10001 / 10001\n",
            "[t-SNE] Mean sigma: 0.019444\n",
            "[t-SNE] KL divergence after 250 iterations with early exaggeration: 84.938324\n",
            "[t-SNE] KL divergence after 300 iterations: 2.923446\n"
          ],
          "name": "stdout"
        }
      ]
    },
    {
      "cell_type": "code",
      "metadata": {
        "_uuid": "3f2ece235d9d912319f8928dced00d6fe3012576",
        "id": "vlRMSFFD6tg9",
        "colab_type": "code",
        "colab": {
          "base_uri": "https://localhost:8080/",
          "height": 282
        },
        "outputId": "0ec2fc78-b431-4910-bf36-71d4c6dac3ad"
      },
      "source": [
        "sns.scatterplot(x=tnse_results[:,0], y=tnse_results[:,1])"
      ],
      "execution_count": 24,
      "outputs": [
        {
          "output_type": "execute_result",
          "data": {
            "text/plain": [
              "<matplotlib.axes._subplots.AxesSubplot at 0x7f29cbb74668>"
            ]
          },
          "metadata": {
            "tags": []
          },
          "execution_count": 24
        },
        {
          "output_type": "display_data",
          "data": {
            "image/png": "[encoded data removed]",
            "text/plain": [
              "<Figure size 432x288 with 1 Axes>"
            ]
          },
          "metadata": {
            "tags": [],
            "needs_background": "light"
          }
        }
      ]
    },
    {
      "cell_type": "markdown",
      "metadata": {
        "_uuid": "25e2df272f8d59e0643672c5a63f57828c4c4e4f",
        "id": "Ku03ALIb6tg_",
        "colab_type": "text"
      },
      "source": [
        "<a id=\"5\"></a> \n",
        "## Making Recommendations"
      ]
    },
    {
      "cell_type": "code",
      "metadata": {
        "_uuid": "338247f69e3cac89fca7193fad14d01345f665fa",
        "id": "RhkAD_4q6thA",
        "colab_type": "code",
        "colab": {
          "base_uri": "https://localhost:8080/",
          "height": 34
        },
        "outputId": "603c79f6-6db0-408e-eaef-fefcea8af1ca"
      },
      "source": [
        "# Creating dataset for making recommendations for the first user\n",
        "book_data = np.array(list(set(dataset.book_id)))\n",
        "book_data[:5]"
      ],
      "execution_count": 25,
      "outputs": [
        {
          "output_type": "execute_result",
          "data": {
            "text/plain": [
              "array([1, 2, 3, 4, 5])"
            ]
          },
          "metadata": {
            "tags": []
          },
          "execution_count": 25
        }
      ]
    },
    {
      "cell_type": "code",
      "metadata": {
        "_uuid": "0d36d052b953a1728fd380587b708a786c9f44ad",
        "id": "aFcLU2mO6thC",
        "colab_type": "code",
        "colab": {
          "base_uri": "https://localhost:8080/",
          "height": 34
        },
        "outputId": "dbbf9625-57a8-4cc6-f353-3337737b7166"
      },
      "source": [
        "user = np.array([1 for i in range(len(book_data))])\n",
        "user[:5]"
      ],
      "execution_count": 26,
      "outputs": [
        {
          "output_type": "execute_result",
          "data": {
            "text/plain": [
              "array([1, 1, 1, 1, 1])"
            ]
          },
          "metadata": {
            "tags": []
          },
          "execution_count": 26
        }
      ]
    },
    {
      "cell_type": "code",
      "metadata": {
        "_uuid": "2866ef2273e6b7e1af5d8d4fd5fac0ae23f19df8",
        "id": "CJSNWhdE6thD",
        "colab_type": "code",
        "colab": {
          "base_uri": "https://localhost:8080/",
          "height": 34
        },
        "outputId": "0458a950-1272-480f-c61b-9d5dc814eaac"
      },
      "source": [
        "predictions = model.predict([user, book_data])\n",
        "\n",
        "predictions = np.array([a[0] for a in predictions])\n",
        "\n",
        "recommended_book_ids = (-predictions).argsort()[:5]\n",
        "\n",
        "recommended_book_ids"
      ],
      "execution_count": 27,
      "outputs": [
        {
          "output_type": "execute_result",
          "data": {
            "text/plain": [
              "array([8945, 9996, 8662, 9565, 3627])"
            ]
          },
          "metadata": {
            "tags": []
          },
          "execution_count": 27
        }
      ]
    },
    {
      "cell_type": "code",
      "metadata": {
        "_uuid": "949de7b0d1da1e77d46161ea7c99632c6762a0cf",
        "id": "FqQ7LewU6thF",
        "colab_type": "code",
        "colab": {
          "base_uri": "https://localhost:8080/",
          "height": 51
        },
        "outputId": "e6b5adb0-b1a1-4fd2-d054-53ebc351a664"
      },
      "source": [
        "# print predicted scores\n",
        "predictions[recommended_book_ids]"
      ],
      "execution_count": 28,
      "outputs": [
        {
          "output_type": "execute_result",
          "data": {
            "text/plain": [
              "array([4.9119406, 4.883702 , 4.8790994, 4.8519073, 4.8167562],\n",
              "      dtype=float32)"
            ]
          },
          "metadata": {
            "tags": []
          },
          "execution_count": 28
        }
      ]
    },
    {
      "cell_type": "code",
      "metadata": {
        "_uuid": "f54324c06a3a0715790def55e1b4906da0a0aae9",
        "id": "Uev2ItHl6thL",
        "colab_type": "code",
        "colab": {
          "base_uri": "https://localhost:8080/",
          "height": 204
        },
        "outputId": "0688f4df-6406-43bf-9779-d4816f498631"
      },
      "source": [
        "url_book = \"https://raw.githubusercontent.com/zygmuntz/goodbooks-10k/master/books.csv\"\n",
        "#books = pd.read_csv('../input/books.csv')\n",
        "books = pd.read_csv(url)\n",
        "books.head()"
      ],
      "execution_count": 29,
      "outputs": [
        {
          "output_type": "execute_result",
          "data": {
            "text/html": [
              "<div>\n",
              "<style scoped>\n",
              "    .dataframe tbody tr th:only-of-type {\n",
              "        vertical-align: middle;\n",
              "    }\n",
              "\n",
              "    .dataframe tbody tr th {\n",
              "        vertical-align: top;\n",
              "    }\n",
              "\n",
              "    .dataframe thead th {\n",
              "        text-align: right;\n",
              "    }\n",
              "</style>\n",
              "<table border=\"1\" class=\"dataframe\">\n",
              "  <thead>\n",
              "    <tr style=\"text-align: right;\">\n",
              "      <th></th>\n",
              "      <th>user_id</th>\n",
              "      <th>book_id</th>\n",
              "      <th>rating</th>\n",
              "    </tr>\n",
              "  </thead>\n",
              "  <tbody>\n",
              "    <tr>\n",
              "      <th>0</th>\n",
              "      <td>1</td>\n",
              "      <td>258</td>\n",
              "      <td>5</td>\n",
              "    </tr>\n",
              "    <tr>\n",
              "      <th>1</th>\n",
              "      <td>2</td>\n",
              "      <td>4081</td>\n",
              "      <td>4</td>\n",
              "    </tr>\n",
              "    <tr>\n",
              "      <th>2</th>\n",
              "      <td>2</td>\n",
              "      <td>260</td>\n",
              "      <td>5</td>\n",
              "    </tr>\n",
              "    <tr>\n",
              "      <th>3</th>\n",
              "      <td>2</td>\n",
              "      <td>9296</td>\n",
              "      <td>5</td>\n",
              "    </tr>\n",
              "    <tr>\n",
              "      <th>4</th>\n",
              "      <td>2</td>\n",
              "      <td>2318</td>\n",
              "      <td>3</td>\n",
              "    </tr>\n",
              "  </tbody>\n",
              "</table>\n",
              "</div>"
            ],
            "text/plain": [
              "   user_id  book_id  rating\n",
              "0        1      258       5\n",
              "1        2     4081       4\n",
              "2        2      260       5\n",
              "3        2     9296       5\n",
              "4        2     2318       3"
            ]
          },
          "metadata": {
            "tags": []
          },
          "execution_count": 29
        }
      ]
    },
    {
      "cell_type": "code",
      "metadata": {
        "_uuid": "0467be8c8042a90ec905d0082d410ab4a89564af",
        "id": "g-UtJhAO6thN",
        "colab_type": "code",
        "colab": {
          "base_uri": "https://localhost:8080/",
          "height": 419
        },
        "outputId": "2682acc5-cf14-4601-fba9-8d0fb533915d"
      },
      "source": [
        "books[books['book_id'].isin(recommended_book_ids)]"
      ],
      "execution_count": 30,
      "outputs": [
        {
          "output_type": "execute_result",
          "data": {
            "text/html": [
              "<div>\n",
              "<style scoped>\n",
              "    .dataframe tbody tr th:only-of-type {\n",
              "        vertical-align: middle;\n",
              "    }\n",
              "\n",
              "    .dataframe tbody tr th {\n",
              "        vertical-align: top;\n",
              "    }\n",
              "\n",
              "    .dataframe thead th {\n",
              "        text-align: right;\n",
              "    }\n",
              "</style>\n",
              "<table border=\"1\" class=\"dataframe\">\n",
              "  <thead>\n",
              "    <tr style=\"text-align: right;\">\n",
              "      <th></th>\n",
              "      <th>user_id</th>\n",
              "      <th>book_id</th>\n",
              "      <th>rating</th>\n",
              "    </tr>\n",
              "  </thead>\n",
              "  <tbody>\n",
              "    <tr>\n",
              "      <th>3143</th>\n",
              "      <td>112</td>\n",
              "      <td>8662</td>\n",
              "      <td>5</td>\n",
              "    </tr>\n",
              "    <tr>\n",
              "      <th>7637</th>\n",
              "      <td>337</td>\n",
              "      <td>8662</td>\n",
              "      <td>4</td>\n",
              "    </tr>\n",
              "    <tr>\n",
              "      <th>10935</th>\n",
              "      <td>497</td>\n",
              "      <td>8662</td>\n",
              "      <td>5</td>\n",
              "    </tr>\n",
              "    <tr>\n",
              "      <th>16181</th>\n",
              "      <td>486</td>\n",
              "      <td>8662</td>\n",
              "      <td>4</td>\n",
              "    </tr>\n",
              "    <tr>\n",
              "      <th>20422</th>\n",
              "      <td>623</td>\n",
              "      <td>8662</td>\n",
              "      <td>4</td>\n",
              "    </tr>\n",
              "    <tr>\n",
              "      <th>...</th>\n",
              "      <td>...</td>\n",
              "      <td>...</td>\n",
              "      <td>...</td>\n",
              "    </tr>\n",
              "    <tr>\n",
              "      <th>5949438</th>\n",
              "      <td>45871</td>\n",
              "      <td>9996</td>\n",
              "      <td>4</td>\n",
              "    </tr>\n",
              "    <tr>\n",
              "      <th>5950064</th>\n",
              "      <td>13985</td>\n",
              "      <td>8662</td>\n",
              "      <td>3</td>\n",
              "    </tr>\n",
              "    <tr>\n",
              "      <th>5962676</th>\n",
              "      <td>13856</td>\n",
              "      <td>8662</td>\n",
              "      <td>4</td>\n",
              "    </tr>\n",
              "    <tr>\n",
              "      <th>5969821</th>\n",
              "      <td>53103</td>\n",
              "      <td>9996</td>\n",
              "      <td>5</td>\n",
              "    </tr>\n",
              "    <tr>\n",
              "      <th>5974443</th>\n",
              "      <td>39592</td>\n",
              "      <td>9996</td>\n",
              "      <td>4</td>\n",
              "    </tr>\n",
              "  </tbody>\n",
              "</table>\n",
              "<p>844 rows × 3 columns</p>\n",
              "</div>"
            ],
            "text/plain": [
              "         user_id  book_id  rating\n",
              "3143         112     8662       5\n",
              "7637         337     8662       4\n",
              "10935        497     8662       5\n",
              "16181        486     8662       4\n",
              "20422        623     8662       4\n",
              "...          ...      ...     ...\n",
              "5949438    45871     9996       4\n",
              "5950064    13985     8662       3\n",
              "5962676    13856     8662       4\n",
              "5969821    53103     9996       5\n",
              "5974443    39592     9996       4\n",
              "\n",
              "[844 rows x 3 columns]"
            ]
          },
          "metadata": {
            "tags": []
          },
          "execution_count": 30
        }
      ]
    },
    {
      "cell_type": "code",
      "metadata": {
        "id": "3aapCYbTAARX",
        "colab_type": "code",
        "colab": {}
      },
      "source": [
        ""
      ],
      "execution_count": 30,
      "outputs": []
    }
  ]
}